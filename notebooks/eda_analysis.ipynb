{
 "cells": [
  {
   "cell_type": "code",
   "execution_count": 31,
   "id": "f900308a",
   "metadata": {},
   "outputs": [
    {
     "name": "stdout",
     "output_type": "stream",
     "text": [
      "Headline Length Stats:\n",
      "count    1.407328e+06\n",
      "mean     7.312051e+01\n",
      "std      4.073531e+01\n",
      "min      3.000000e+00\n",
      "25%      4.700000e+01\n",
      "50%      6.400000e+01\n",
      "75%      8.700000e+01\n",
      "max      5.120000e+02\n",
      "Name: headline_length, dtype: float64\n",
      "\n",
      "Top 10 Publishers by Article Count:\n",
      "publisher\n",
      "Paul Quintaro        228373\n",
      "Lisa Levin           186979\n",
      "Benzinga Newsdesk    150484\n",
      "Charles Gross         96732\n",
      "Monica Gerson         82380\n",
      "Eddie Staley          57254\n",
      "Hal Lindon            49047\n",
      "ETF Professor         28489\n",
      "Juan Lopez            28438\n",
      "Benzinga Staff        28114\n",
      "Name: count, dtype: int64\n"
     ]
    }
   ],
   "source": [
    "import sys\n",
    "import os\n",
    "sys.path.append(os.path.abspath(os.path.join(os.pardir))) \n",
    "import sys\n",
    "import os\n",
    "sys.path.append(os.path.abspath(os.path.join(os.pardir)))\n",
    "\n",
    "from src.loader import DataLoader\n",
    "from src.preprocessor import Preprocessor\n",
    "from src.analyzer import Analyzer\n",
    "import matplotlib.pyplot as plt\n",
    "# Load data\n",
    "dl = DataLoader('../data/raw.csv')\n",
    "df = dl.load()\n",
    "\n",
    "# Add headline length\n",
    "df = Preprocessor.add_headline_length(df)\n",
    "\n",
    "# 1. Descriptive stats of headline lengths\n",
    "print(\"Headline Length Stats:\")\n",
    "print(Analyzer.describe_headline_lengths(df))\n",
    "\n",
    "# 2. Top 10 active publishers\n",
    "print(\"\\nTop 10 Publishers by Article Count:\")\n",
    "print(Analyzer.count_articles_by_publisher(df))\n",
    "\n",
    "# 3. Publication frequency by day (trend over time)\n",
    "\n",
    "\n"
   ]
  },
  {
   "cell_type": "code",
   "execution_count": null,
   "id": "37ef728c",
   "metadata": {},
   "outputs": [],
   "source": []
  }
 ],
 "metadata": {
  "kernelspec": {
   "display_name": ".venv",
   "language": "python",
   "name": "python3"
  },
  "language_info": {
   "codemirror_mode": {
    "name": "ipython",
    "version": 3
   },
   "file_extension": ".py",
   "mimetype": "text/x-python",
   "name": "python",
   "nbconvert_exporter": "python",
   "pygments_lexer": "ipython3",
   "version": "3.13.2"
  }
 },
 "nbformat": 4,
 "nbformat_minor": 5
}
