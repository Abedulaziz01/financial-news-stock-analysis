{
 "cells": [
  {
   "cell_type": "code",
   "execution_count": null,
   "id": "a10f4db7",
   "metadata": {},
   "outputs": [],
   "source": [
    "import pandas as pd\n",
    "from src.topic_modeler import TopicModeler\n",
    "import matplotlib.pyplot as plt\n",
    "\n",
    "# Load your dataset\n",
    "df = pd.read_csv(\"../data/raw.csv\", parse_dates=[\"date\"])\n",
    "\n",
    "# Sample for speed\n",
    "df_sample = df.sample(3000, random_state=42)\n",
    "\n",
    "# Run Topic Modeler (preprocessing is now internal)\n",
    "tm = TopicModeler(num_topics=5, max_features=500)\n",
    "topics = tm.fit(df_sample['headline'])\n",
    "\n",
    "# Display topics\n",
    "for topic, words in topics:\n",
    "    print(f\"{topic}: {', '.join(words)}\")\n",
    "\n",
    "# Plot topics\n",
    "def plot_topics(topics):\n",
    "    fig, axs = plt.subplots(len(topics), 1, figsize=(10, 4 * len(topics)))\n",
    "    if len(topics) == 1:\n",
    "        axs = [axs]\n",
    "    for ax, (topic_name, words) in zip(axs, topics):\n",
    "        ax.barh(words[::-1], range(1, len(words)+1))\n",
    "        ax.set_title(topic_name)\n",
    "        ax.set_xlabel(\"Importance Rank\")\n",
    "    plt.tight_layout()\n",
    "    plt.show()\n",
    "\n",
    "plot_topics(topics)\n"
   ]
  }
 ],
 "metadata": {
  "language_info": {
   "name": "python"
  }
 },
 "nbformat": 4,
 "nbformat_minor": 5
}
